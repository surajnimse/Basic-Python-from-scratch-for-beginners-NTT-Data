{
  "nbformat": 4,
  "nbformat_minor": 0,
  "metadata": {
    "colab": {
      "provenance": []
    },
    "kernelspec": {
      "name": "python3",
      "display_name": "Python 3"
    },
    "language_info": {
      "name": "python"
    }
  },
  "cells": [
    {
      "cell_type": "code",
      "execution_count": 4,
      "metadata": {
        "colab": {
          "base_uri": "https://localhost:8080/"
        },
        "id": "fooBKl8FmcO4",
        "outputId": "8605a1f6-3136-4e14-a682-993d3be51c7f"
      },
      "outputs": [
        {
          "output_type": "stream",
          "name": "stdout",
          "text": [
            "Outer Loop\n",
            "Inner Loop\n",
            "B 10\n",
            "Inner Loop\n",
            "B 20\n",
            "Inner Loop\n",
            "B 30\n",
            "Outer Loop\n",
            "Inner Loop\n",
            "L 10\n",
            "Inner Loop\n",
            "L 20\n",
            "Inner Loop\n",
            "L 30\n",
            "Outer Loop\n",
            "Inner Loop\n",
            "R 10\n",
            "Inner Loop\n",
            "R 20\n",
            "Inner Loop\n",
            "R 30\n"
          ]
        }
      ],
      "source": [
        "# nested for loop\n",
        "for i in \"BLR\":\n",
        "  print(\"Outer Loop\")\n",
        "  for j in [10,20,30]:\n",
        "    print(\"Inner Loop\")\n",
        "    print(i,j)"
      ]
    },
    {
      "cell_type": "code",
      "source": [
        "#palindrom string using slicing concept\n",
        "str = input(\"Enter a string: \")\n",
        "if str == str[::-1]:\n",
        "  print(\"Palindrome\")\n",
        "else:\n",
        "  print(\"Not Palindrome\")\n"
      ],
      "metadata": {
        "id": "UNELZgB92Wou",
        "outputId": "918f505d-31c1-4aa6-c86a-f909dea973af",
        "colab": {
          "base_uri": "https://localhost:8080/"
        }
      },
      "execution_count": 21,
      "outputs": [
        {
          "output_type": "stream",
          "name": "stdout",
          "text": [
            "Enter a string: rar\n",
            "Palindrome\n"
          ]
        }
      ]
    },
    {
      "cell_type": "code",
      "source": [
        "#reverse string using slicing concept\n",
        "str = input(\"Enter a string: \")\n",
        "print(str[::-1])"
      ],
      "metadata": {
        "colab": {
          "base_uri": "https://localhost:8080/"
        },
        "id": "456iibnZml4b",
        "outputId": "ad96587d-fbc8-429c-8470-24bc492b5792"
      },
      "execution_count": 19,
      "outputs": [
        {
          "output_type": "stream",
          "name": "stdout",
          "text": [
            "Enter a string: sd\n",
            "ds\n"
          ]
        }
      ]
    }
  ]
}