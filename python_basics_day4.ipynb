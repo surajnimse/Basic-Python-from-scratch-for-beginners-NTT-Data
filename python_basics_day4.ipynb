{
  "nbformat": 4,
  "nbformat_minor": 0,
  "metadata": {
    "colab": {
      "provenance": []
    },
    "kernelspec": {
      "name": "python3",
      "display_name": "Python 3"
    },
    "language_info": {
      "name": "python"
    }
  },
  "cells": [
    {
      "cell_type": "code",
      "execution_count": null,
      "metadata": {
        "id": "fooBKl8FmcO4"
      },
      "outputs": [],
      "source": [
        "# nested for loop\n",
        "for i in \"BLR\":\n",
        "  print(\"Outer Loop\")\n",
        "  for j in [10,20,30]:\n",
        "    print(\"Inner Loop\")\n",
        "    print(i,j)"
      ]
    },
    {
      "cell_type": "code",
      "source": [
        "#palindrom string using slicing concept\n",
        "str = input(\"Enter a string: \")\n",
        "if str == str[::-1]:\n",
        "  print(\"Palindrome\")\n",
        "else:\n",
        "  print(\"Not Palindrome\")\n"
      ],
      "metadata": {
        "id": "UNELZgB92Wou"
      },
      "execution_count": null,
      "outputs": []
    },
    {
      "cell_type": "code",
      "source": [
        "#reverse string using slicing concept\n",
        "str = input(\"Enter a string: \")\n",
        "print(str[::-1])"
      ],
      "metadata": {
        "id": "456iibnZml4b"
      },
      "execution_count": null,
      "outputs": []
    },
    {
      "cell_type": "code",
      "source": [
        "# break operator\n",
        "for i in range(1,6):\n",
        "  if i == 5:\n",
        "    break\n",
        "  print(i)"
      ],
      "metadata": {
        "id": "SPvn739R75qP"
      },
      "execution_count": null,
      "outputs": []
    },
    {
      "cell_type": "code",
      "source": [
        "s1=\"apple\"\n",
        "s2=\"banana\"\n",
        "print(s1+s2)\n",
        "print(s1*2)\n",
        "#Lower #Lower\n",
        "print(s1.upper())\n",
        "print(s1.lower())\n",
        "#del s1\n",
        "print(s1)\n"
      ],
      "metadata": {
        "id": "BTyTcMSn8O3m"
      },
      "execution_count": null,
      "outputs": []
    },
    {
      "cell_type": "code",
      "source": [
        "# length of string\n",
        "str = input(\"Enter a string: \")\n",
        "print(len(str))"
      ],
      "metadata": {
        "id": "aD9jPc8m-imq",
        "outputId": "7e87b5d5-cf1e-4209-cbfa-51218e0b086f",
        "colab": {
          "base_uri": "https://localhost:8080/"
        }
      },
      "execution_count": 34,
      "outputs": [
        {
          "output_type": "stream",
          "name": "stdout",
          "text": [
            "Enter a string: suraj\n",
            "5\n"
          ]
        }
      ]
    },
    {
      "cell_type": "code",
      "source": [
        "# length of string manually\n",
        "str = input(\"Enter a string: \")\n",
        "count = 0\n",
        "for i in str:\n",
        "  count += 1\n",
        "print(count)"
      ],
      "metadata": {
        "id": "rsiJ5ewf-sM4",
        "outputId": "092941fb-3318-4735-bc50-8192435b539b",
        "colab": {
          "base_uri": "https://localhost:8080/"
        }
      },
      "execution_count": 35,
      "outputs": [
        {
          "output_type": "stream",
          "name": "stdout",
          "text": [
            "Enter a string: rj\n",
            "2\n"
          ]
        }
      ]
    },
    {
      "cell_type": "code",
      "source": [
        "#count method\n",
        "s1=\"Hi my name is suraj nimse\"\n",
        "print(s1.count(\"suraj\"))"
      ],
      "metadata": {
        "id": "4ybMpOT8ANxs",
        "outputId": "207c3d9d-5138-4afe-d4ff-68fa55364f31",
        "colab": {
          "base_uri": "https://localhost:8080/"
        }
      },
      "execution_count": 36,
      "outputs": [
        {
          "output_type": "stream",
          "name": "stdout",
          "text": [
            "1\n"
          ]
        }
      ]
    },
    {
      "cell_type": "code",
      "source": [
        "#count method\n",
        "s1=input(\"Enter a string: \")\n",
        "print(s1.count(\"suraj\",3,7))"
      ],
      "metadata": {
        "id": "eU-AsoFdAhUM",
        "outputId": "31a40e74-56d7-482c-945b-ae97a36e4e15",
        "colab": {
          "base_uri": "https://localhost:8080/"
        }
      },
      "execution_count": 37,
      "outputs": [
        {
          "output_type": "stream",
          "name": "stdout",
          "text": [
            "Enter a string: suraj\n",
            "0\n"
          ]
        }
      ]
    },
    {
      "cell_type": "code",
      "source": [
        "#count method\n",
        "s1=\"Hi my name is khan and khan \"\n",
        "print(s1.count(\"khan\",15))"
      ],
      "metadata": {
        "id": "ZPSBPpeHBS7v",
        "outputId": "d4513b36-217c-47d6-fb12-7dfc94bb71ca",
        "colab": {
          "base_uri": "https://localhost:8080/"
        }
      },
      "execution_count": 38,
      "outputs": [
        {
          "output_type": "stream",
          "name": "stdout",
          "text": [
            "1\n"
          ]
        }
      ]
    },
    {
      "cell_type": "code",
      "source": [
        "#startswith\n",
        "mainstring= input(\"Enter a string: \")\n",
        "substring= input(\"Enter a substring: \")\n",
        "print(mainstring.startswith(\"Hi\"))"
      ],
      "metadata": {
        "id": "bhYHisdgBa6c",
        "outputId": "732a4828-5c74-406b-9e55-0743e60986fe",
        "colab": {
          "base_uri": "https://localhost:8080/"
        }
      },
      "execution_count": 40,
      "outputs": [
        {
          "output_type": "stream",
          "name": "stdout",
          "text": [
            "Enter a string: Hi Suraj\n",
            "Enter a substring: nimse\n",
            "True\n"
          ]
        }
      ]
    },
    {
      "cell_type": "code",
      "source": [
        "#startswith\n",
        "mainstring= input(\"Enter a string: \")\n",
        "substring= input(\"Enter a substring: \")\n",
        "if mainstring.startswith(substring):\n",
        "  print(\"Substring found\")\n",
        "else:\n",
        "  print(\"Substring not found\")\n"
      ],
      "metadata": {
        "id": "ofOelXENByuB",
        "outputId": "20654bcf-9cf7-4051-e03e-d238041c180a",
        "colab": {
          "base_uri": "https://localhost:8080/"
        }
      },
      "execution_count": 43,
      "outputs": [
        {
          "output_type": "stream",
          "name": "stdout",
          "text": [
            "Enter a string: bangalore\n",
            "Enter a substring: blr\n",
            "Substring not found\n"
          ]
        }
      ]
    },
    {
      "cell_type": "code",
      "source": [
        " str=input(\"Enter a number: \")\n",
        "if str.startswith(\"92\"):\n",
        "  print(\"Pak\")\n",
        "elif str.startswith(\"91\"):\n",
        "  print(\"India\")\n",
        "elif str.startswith(\"1\"):\n",
        "  print(\"USA\")\n",
        "elif str.startswith(\"3\"):\n",
        "  print(\"uk\")\n",
        "else:\n",
        "  print(\"Number is invalid\")"
      ],
      "metadata": {
        "id": "jIvXMlhBCIgx",
        "outputId": "a1a35e00-547f-4359-d71b-0d725d2a5cb5",
        "colab": {
          "base_uri": "https://localhost:8080/"
        }
      },
      "execution_count": 52,
      "outputs": [
        {
          "output_type": "stream",
          "name": "stdout",
          "text": [
            "Enter a number: 92\n",
            "Pak\n"
          ]
        }
      ]
    },
    {
      "cell_type": "code",
      "source": [
        " #endswith\n",
        "\n",
        " str=input(\"Enter a string: \")\n",
        "if str.endswith(\".com\"):\n",
        "  print(\"Commercial site\")\n",
        "elif str.endswith(\".edu\"):\n",
        "  print(\"educational site\")\n",
        "elif str.endswith(\".us\"):\n",
        "  print(\"USA site\")\n",
        "elif str.endswith(\".uk\"):\n",
        "  print(\"uk site\")\n",
        "else:\n",
        "  print(\" invalid\")"
      ],
      "metadata": {
        "id": "MT5fbpXCGjNs",
        "outputId": "ab2df91b-3a17-4e9d-d532-06599954d5f9",
        "colab": {
          "base_uri": "https://localhost:8080/"
        }
      },
      "execution_count": 54,
      "outputs": [
        {
          "output_type": "stream",
          "name": "stdout",
          "text": [
            "Enter a string: abc.us\n",
            "USA site\n"
          ]
        }
      ]
    },
    {
      "cell_type": "code",
      "source": [],
      "metadata": {
        "id": "zxnvEpFYHOUj"
      },
      "execution_count": null,
      "outputs": []
    }
  ]
}