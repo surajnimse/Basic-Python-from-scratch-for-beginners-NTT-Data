{
  "nbformat": 4,
  "nbformat_minor": 0,
  "metadata": {
    "colab": {
      "provenance": [],
      "include_colab_link": true
    },
    "kernelspec": {
      "name": "python3",
      "display_name": "Python 3"
    },
    "language_info": {
      "name": "python"
    }
  },
  "cells": [
    {
      "cell_type": "markdown",
      "metadata": {
        "id": "view-in-github",
        "colab_type": "text"
      },
      "source": [
        "<a href=\"https://colab.research.google.com/github/surajnimse/Basic-Python-from-scratch-for-beginners-NTT-Data/blob/main/python_basics_day4.ipynb\" target=\"_parent\"><img src=\"https://colab.research.google.com/assets/colab-badge.svg\" alt=\"Open In Colab\"/></a>"
      ]
    },
    {
      "cell_type": "code",
      "execution_count": null,
      "metadata": {
        "id": "fooBKl8FmcO4"
      },
      "outputs": [],
      "source": [
        "# nested for loop\n",
        "for i in \"BLR\":\n",
        "  print(\"Outer Loop\")\n",
        "  for j in [10,20,30]:\n",
        "    print(\"Inner Loop\")\n",
        "    print(i,j)"
      ]
    },
    {
      "cell_type": "code",
      "source": [
        "#palindrom string using slicing concept\n",
        "str = input(\"Enter a string: \")\n",
        "if str == str[::-1]:\n",
        "  print(\"Palindrome\")\n",
        "else:\n",
        "  print(\"Not Palindrome\")\n"
      ],
      "metadata": {
        "id": "UNELZgB92Wou"
      },
      "execution_count": null,
      "outputs": []
    },
    {
      "cell_type": "code",
      "source": [
        "#reverse string using slicing concept\n",
        "str = input(\"Enter a string: \")\n",
        "print(str[::-1])"
      ],
      "metadata": {
        "id": "456iibnZml4b"
      },
      "execution_count": null,
      "outputs": []
    },
    {
      "cell_type": "code",
      "source": [
        "# break operator\n",
        "for i in range(1,6):\n",
        "  if i == 5:\n",
        "    break\n",
        "  print(i)"
      ],
      "metadata": {
        "id": "SPvn739R75qP"
      },
      "execution_count": null,
      "outputs": []
    },
    {
      "cell_type": "code",
      "source": [
        "s1=\"apple\"\n",
        "s2=\"banana\"\n",
        "print(s1+s2)\n",
        "print(s1*2)\n",
        "#Lower #Lower\n",
        "print(s1.upper())\n",
        "print(s1.lower())\n",
        "#del s1\n",
        "print(s1)\n"
      ],
      "metadata": {
        "id": "BTyTcMSn8O3m"
      },
      "execution_count": null,
      "outputs": []
    },
    {
      "cell_type": "code",
      "source": [
        "# length of string\n",
        "str = input(\"Enter a string: \")\n",
        "print(len(str))"
      ],
      "metadata": {
        "colab": {
          "base_uri": "https://localhost:8080/"
        },
        "id": "aD9jPc8m-imq",
        "outputId": "7e87b5d5-cf1e-4209-cbfa-51218e0b086f"
      },
      "execution_count": 34,
      "outputs": [
        {
          "output_type": "stream",
          "name": "stdout",
          "text": [
            "Enter a string: suraj\n",
            "5\n"
          ]
        }
      ]
    },
    {
      "cell_type": "code",
      "source": [
        "# length of string manually\n",
        "str = input(\"Enter a string: \")\n",
        "count = 0\n",
        "for i in str:\n",
        "  count += 1\n",
        "print(count)"
      ],
      "metadata": {
        "colab": {
          "base_uri": "https://localhost:8080/"
        },
        "id": "rsiJ5ewf-sM4",
        "outputId": "092941fb-3318-4735-bc50-8192435b539b"
      },
      "execution_count": 35,
      "outputs": [
        {
          "output_type": "stream",
          "name": "stdout",
          "text": [
            "Enter a string: rj\n",
            "2\n"
          ]
        }
      ]
    },
    {
      "cell_type": "code",
      "source": [
        "#count method\n",
        "s1=\"Hi my name is suraj nimse\"\n",
        "print(s1.count(\"suraj\"))"
      ],
      "metadata": {
        "colab": {
          "base_uri": "https://localhost:8080/"
        },
        "id": "4ybMpOT8ANxs",
        "outputId": "207c3d9d-5138-4afe-d4ff-68fa55364f31"
      },
      "execution_count": 36,
      "outputs": [
        {
          "output_type": "stream",
          "name": "stdout",
          "text": [
            "1\n"
          ]
        }
      ]
    },
    {
      "cell_type": "code",
      "source": [
        "#count method\n",
        "s1=input(\"Enter a string: \")\n",
        "print(s1.count(\"suraj\",3,7))"
      ],
      "metadata": {
        "colab": {
          "base_uri": "https://localhost:8080/"
        },
        "id": "eU-AsoFdAhUM",
        "outputId": "31a40e74-56d7-482c-945b-ae97a36e4e15"
      },
      "execution_count": 37,
      "outputs": [
        {
          "output_type": "stream",
          "name": "stdout",
          "text": [
            "Enter a string: suraj\n",
            "0\n"
          ]
        }
      ]
    },
    {
      "cell_type": "code",
      "source": [
        "#count method\n",
        "s1=\"Hi my name is khan and khan \"\n",
        "print(s1.count(\"khan\",15))"
      ],
      "metadata": {
        "colab": {
          "base_uri": "https://localhost:8080/"
        },
        "id": "ZPSBPpeHBS7v",
        "outputId": "d4513b36-217c-47d6-fb12-7dfc94bb71ca"
      },
      "execution_count": 38,
      "outputs": [
        {
          "output_type": "stream",
          "name": "stdout",
          "text": [
            "1\n"
          ]
        }
      ]
    },
    {
      "cell_type": "code",
      "source": [
        "#startswith\n",
        "mainstring= input(\"Enter a string: \")\n",
        "substring= input(\"Enter a substring: \")\n",
        "print(mainstring.startswith(\"Hi\"))"
      ],
      "metadata": {
        "colab": {
          "base_uri": "https://localhost:8080/"
        },
        "id": "bhYHisdgBa6c",
        "outputId": "732a4828-5c74-406b-9e55-0743e60986fe"
      },
      "execution_count": 40,
      "outputs": [
        {
          "output_type": "stream",
          "name": "stdout",
          "text": [
            "Enter a string: Hi Suraj\n",
            "Enter a substring: nimse\n",
            "True\n"
          ]
        }
      ]
    },
    {
      "cell_type": "code",
      "source": [
        "#startswith\n",
        "mainstring= input(\"Enter a string: \")\n",
        "substring= input(\"Enter a substring: \")\n",
        "if mainstring.startswith(substring):\n",
        "  print(\"Substring found\")\n",
        "else:\n",
        "  print(\"Substring not found\")\n"
      ],
      "metadata": {
        "colab": {
          "base_uri": "https://localhost:8080/"
        },
        "id": "ofOelXENByuB",
        "outputId": "20654bcf-9cf7-4051-e03e-d238041c180a"
      },
      "execution_count": 43,
      "outputs": [
        {
          "output_type": "stream",
          "name": "stdout",
          "text": [
            "Enter a string: bangalore\n",
            "Enter a substring: blr\n",
            "Substring not found\n"
          ]
        }
      ]
    },
    {
      "cell_type": "code",
      "source": [
        " str=input(\"Enter a number: \")\n",
        "if str.startswith(\"92\"):\n",
        "  print(\"Pak\")\n",
        "elif str.startswith(\"91\"):\n",
        "  print(\"India\")\n",
        "elif str.startswith(\"1\"):\n",
        "  print(\"USA\")\n",
        "elif str.startswith(\"3\"):\n",
        "  print(\"uk\")\n",
        "else:\n",
        "  print(\"Number is invalid\")"
      ],
      "metadata": {
        "colab": {
          "base_uri": "https://localhost:8080/"
        },
        "id": "jIvXMlhBCIgx",
        "outputId": "a1a35e00-547f-4359-d71b-0d725d2a5cb5"
      },
      "execution_count": 52,
      "outputs": [
        {
          "output_type": "stream",
          "name": "stdout",
          "text": [
            "Enter a number: 92\n",
            "Pak\n"
          ]
        }
      ]
    },
    {
      "cell_type": "code",
      "source": [
        " #endswith\n",
        "\n",
        " str=input(\"Enter a string: \")\n",
        "if str.endswith(\".com\"):\n",
        "  print(\"Commercial site\")\n",
        "elif str.endswith(\".edu\"):\n",
        "  print(\"educational site\")\n",
        "elif str.endswith(\".us\"):\n",
        "  print(\"USA site\")\n",
        "elif str.endswith(\".uk\"):\n",
        "  print(\"uk site\")\n",
        "else:\n",
        "  print(\" invalid\")"
      ],
      "metadata": {
        "colab": {
          "base_uri": "https://localhost:8080/"
        },
        "id": "MT5fbpXCGjNs",
        "outputId": "ab2df91b-3a17-4e9d-d532-06599954d5f9"
      },
      "execution_count": 54,
      "outputs": [
        {
          "output_type": "stream",
          "name": "stdout",
          "text": [
            "Enter a string: abc.us\n",
            "USA site\n"
          ]
        }
      ]
    },
    {
      "cell_type": "code",
      "source": [
        "#stripping or Trimming\n",
        "\n",
        "str=input(\"Enter a string: \")\n",
        "print(str.strip())"
      ],
      "metadata": {
        "colab": {
          "base_uri": "https://localhost:8080/"
        },
        "id": "zxnvEpFYHOUj",
        "outputId": "08a1c611-4bd0-4b88-e992-fa396273dcdc"
      },
      "execution_count": 57,
      "outputs": [
        {
          "output_type": "stream",
          "name": "stdout",
          "text": [
            "Enter a string:  suraj\n",
            "suraj\n"
          ]
        }
      ]
    },
    {
      "cell_type": "code",
      "source": [
        "#stripping or Trimming\n",
        "\n",
        "#str=input(\"Enter a string: \")\n",
        "str=\" _suraj_ \"\n",
        "print(str.strip())\n",
        "print(str.rstrip())\n",
        "print(str.lstrip())"
      ],
      "metadata": {
        "id": "rWtceMb5Huib",
        "outputId": "61b9d091-b77d-4354-bb1b-a4f97df00295",
        "colab": {
          "base_uri": "https://localhost:8080/"
        }
      },
      "execution_count": 59,
      "outputs": [
        {
          "output_type": "stream",
          "name": "stdout",
          "text": [
            "_suraj_\n",
            " _suraj_\n",
            "_suraj_ \n"
          ]
        }
      ]
    },
    {
      "cell_type": "code",
      "source": [
        "str=\"_suraj_\"\n",
        "print(str.strip(\"_\"))\n",
        "print(str.rstrip(\" _\"))\n",
        "print(str.lstrip(\"_ \"))"
      ],
      "metadata": {
        "id": "hx_cmvfUIdZF",
        "outputId": "17bd3420-d4c0-457d-bf8c-ae2a3af64add",
        "colab": {
          "base_uri": "https://localhost:8080/"
        }
      },
      "execution_count": 66,
      "outputs": [
        {
          "output_type": "stream",
          "name": "stdout",
          "text": [
            "suraj\n",
            "_suraj\n",
            "suraj_\n"
          ]
        }
      ]
    },
    {
      "cell_type": "code",
      "source": [
        "#stripping or Trimming\n",
        "\n",
        "#str=input(\"Enter a string: \")\n",
        "str= [\"www.abc.com\",\"www.bbb.com\",\"www.ccc.com\"]\n",
        "for i in str:\n",
        "  print(i.strip(\"www.\"))"
      ],
      "metadata": {
        "id": "Ti8dJw4EJeTW",
        "outputId": "0baad8ee-a0f5-4bef-9b3d-181ac3e82d0b",
        "colab": {
          "base_uri": "https://localhost:8080/"
        }
      },
      "execution_count": 70,
      "outputs": [
        {
          "output_type": "stream",
          "name": "stdout",
          "text": [
            "abc.com\n",
            "bbb.com\n",
            "ccc.com\n"
          ]
        }
      ]
    },
    {
      "cell_type": "code",
      "source": [
        "'''/*\n",
        "The strip() method removes characters individually from the beginning and end of the string, not as a whole sequence. In the case of \"[redacted link], the characters 'h', 't', 'p', '.', 'c', 'o', 'm' are removed from both ends, but the removal happens one character at a time.\n",
        "\n",
        "It first removes 'h', 't', 't', 'p' from the beginning.\n",
        "Then it removes '.com' from the end.\n",
        "Since the 'o' in \"ajio\" is also present in 'htp.com', the strip() method continues to remove characters and thus removes 'o' from the end as well.\n",
        "Therefore, the final output for \"[redacted link] becomes \"://[redacted link].\n",
        "\n",
        "*/\n",
        "'''\n",
        "\n",
        "url = [\"http://www.myntro.com\",\"http://www.ajio.com\",\"http://www.google.com\"]\n",
        "for i in url:\n",
        "  i =i.strip('htp.com')\n",
        "  print(i)"
      ],
      "metadata": {
        "id": "biVmL-tXPXUq",
        "outputId": "8b2dbf77-64a0-49ee-845d-83170c37ed25",
        "colab": {
          "base_uri": "https://localhost:8080/"
        }
      },
      "execution_count": 73,
      "outputs": [
        {
          "output_type": "stream",
          "name": "stdout",
          "text": [
            "://www.myntr\n",
            "://www.aji\n",
            "://www.google\n"
          ]
        }
      ]
    },
    {
      "cell_type": "code",
      "source": [
        "s1=\"apple\"\n",
        "s2=\"apple\"\n",
        "if s1==s2:\n",
        "  print(\"same\")\n",
        "else:\n",
        "  print(\"Different\")"
      ],
      "metadata": {
        "id": "EMvJvAMORAS_",
        "outputId": "d6213f42-fac3-4ee8-f375-96c5afd1ae77",
        "colab": {
          "base_uri": "https://localhost:8080/"
        }
      },
      "execution_count": 74,
      "outputs": [
        {
          "output_type": "stream",
          "name": "stdout",
          "text": [
            "same\n"
          ]
        }
      ]
    },
    {
      "cell_type": "code",
      "source": [
        "s1=\"apple\"\n",
        "s2=\"apple\"\n",
        "if s1 > s2:\n",
        "  print(\"same\")\n",
        "else:\n",
        "  print(\"Different\")"
      ],
      "metadata": {
        "id": "LAwxleAARWZ5",
        "outputId": "2e5b9c86-5a80-4da2-c0dc-2745a4e95349",
        "colab": {
          "base_uri": "https://localhost:8080/"
        }
      },
      "execution_count": 77,
      "outputs": [
        {
          "output_type": "stream",
          "name": "stdout",
          "text": [
            "Different\n"
          ]
        }
      ]
    },
    {
      "cell_type": "code",
      "source": [
        "\n",
        "print(ord(\"A\"))\n",
        "print(ord(\"Z\"))\n",
        "print(ord(\"a\"))\n",
        "print(ord(\"z\"))"
      ],
      "metadata": {
        "id": "yD7Es-h_Rlih",
        "outputId": "8930ad61-2497-4f12-8fd8-75737362af32",
        "colab": {
          "base_uri": "https://localhost:8080/"
        }
      },
      "execution_count": 80,
      "outputs": [
        {
          "output_type": "stream",
          "name": "stdout",
          "text": [
            "65\n",
            "90\n",
            "97\n",
            "122\n"
          ]
        }
      ]
    }
  ]
}