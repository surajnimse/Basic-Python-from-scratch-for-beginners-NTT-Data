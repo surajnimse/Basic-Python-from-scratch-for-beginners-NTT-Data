{
  "nbformat": 4,
  "nbformat_minor": 0,
  "metadata": {
    "colab": {
      "provenance": []
    },
    "kernelspec": {
      "name": "python3",
      "display_name": "Python 3"
    },
    "language_info": {
      "name": "python"
    }
  },
  "cells": [
    {
      "cell_type": "code",
      "source": [
        "#Day 3\n",
        "#Decision Making\n",
        "\n",
        "# If else\n",
        "\n",
        "if 5> 2:\n",
        "  print(\"Five is greater than two!\")\n",
        "  print(\"i am inside the if code block!\")\n",
        "  print(\"Still ,i am inside the if code block!\")\n",
        "else:\n",
        "  print(\"i am outside the if code block!\")\n"
      ],
      "metadata": {
        "colab": {
          "base_uri": "https://localhost:8080/"
        },
        "id": "456iibnZml4b",
        "outputId": "4620b7be-9040-4406-f1a7-6cb2ec79bfdc"
      },
      "execution_count": 9,
      "outputs": [
        {
          "output_type": "stream",
          "name": "stdout",
          "text": [
            "Five is greater than two!\n",
            "i am inside the if code block!\n",
            "Still ,i am inside the if code block!\n"
          ]
        }
      ]
    },
    {
      "cell_type": "code",
      "source": [
        "#Day 3\n",
        "#Decision Making\n",
        "\n",
        "# If else\n",
        "\n",
        "if 1> 2:\n",
        "  print(\"Five is greater than two!\")\n",
        "  print(\"i am inside the if code block!\")\n",
        "  print(\"Still ,i am inside the if code block!\")\n",
        "else:\n",
        "  print(\"i am outside the if code block!\")\n"
      ],
      "metadata": {
        "colab": {
          "base_uri": "https://localhost:8080/"
        },
        "id": "pNamRk5zeTfS",
        "outputId": "10e6b4c4-01b0-43f9-a602-0ad2176f144f"
      },
      "execution_count": 8,
      "outputs": [
        {
          "output_type": "stream",
          "name": "stdout",
          "text": [
            "i am outside the if code block!\n"
          ]
        }
      ]
    },
    {
      "cell_type": "code",
      "source": [
        "#input from user\n",
        "print(\"Enter a number1\")\n",
        "num1 = input()\n",
        "\n",
        "\n",
        "#input from user\n",
        "print(\"Enter a number2\")\n",
        "num2 = input()\n",
        "\n",
        "if (num1)>(num2):\n",
        "  print(num1,\" is greater than\",num2)\n",
        "elif (num2)>(num1):\n",
        "  print(num2,\" is greater than\",num1)\n",
        "else:\n",
        "  print(num1, \"is equal to\", num2)\n"
      ],
      "metadata": {
        "colab": {
          "base_uri": "https://localhost:8080/"
        },
        "id": "c0UVRDjseTTY",
        "outputId": "4a38c658-26dc-4667-ccae-3fefc96f6da7"
      },
      "execution_count": 31,
      "outputs": [
        {
          "output_type": "stream",
          "name": "stdout",
          "text": [
            "Enter a number1\n",
            "1\n",
            "Enter a number2\n",
            "1\n",
            "1 is equal to 1\n"
          ]
        }
      ]
    },
    {
      "cell_type": "code",
      "source": [],
      "metadata": {
        "id": "pRwjYMsZeS5t"
      },
      "execution_count": null,
      "outputs": []
    },
    {
      "cell_type": "code",
      "source": [],
      "metadata": {
        "id": "QzZCDTz5eSuB"
      },
      "execution_count": null,
      "outputs": []
    },
    {
      "cell_type": "code",
      "source": [],
      "metadata": {
        "id": "vl7kE_ujeSdX"
      },
      "execution_count": null,
      "outputs": []
    }
  ]
}