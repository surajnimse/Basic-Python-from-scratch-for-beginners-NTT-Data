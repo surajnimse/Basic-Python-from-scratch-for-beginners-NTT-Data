{
  "nbformat": 4,
  "nbformat_minor": 0,
  "metadata": {
    "colab": {
      "provenance": []
    },
    "kernelspec": {
      "name": "python3",
      "display_name": "Python 3"
    },
    "language_info": {
      "name": "python"
    }
  },
  "cells": [
    {
      "cell_type": "code",
      "source": [
        "#Day 3\n",
        "#Decision Making\n",
        "\n",
        "# If else\n",
        "\n",
        "if 5> 2:\n",
        "  print(\"Five is greater than two!\")\n",
        "  print(\"i am inside the if code block!\")\n",
        "  print(\"Still ,i am inside the if code block!\")\n",
        "else:\n",
        "  print(\"i am outside the if code block!\")\n"
      ],
      "metadata": {
        "colab": {
          "base_uri": "https://localhost:8080/"
        },
        "id": "456iibnZml4b",
        "outputId": "4620b7be-9040-4406-f1a7-6cb2ec79bfdc"
      },
      "execution_count": 9,
      "outputs": [
        {
          "output_type": "stream",
          "name": "stdout",
          "text": [
            "Five is greater than two!\n",
            "i am inside the if code block!\n",
            "Still ,i am inside the if code block!\n"
          ]
        }
      ]
    },
    {
      "cell_type": "code",
      "source": [
        "#Day 3\n",
        "#Decision Making\n",
        "\n",
        "# If else\n",
        "\n",
        "if 1> 2:\n",
        "  print(\"Five is greater than two!\")\n",
        "  print(\"i am inside the if code block!\")\n",
        "  print(\"Still ,i am inside the if code block!\")\n",
        "else:\n",
        "  print(\"i am outside the if code block!\")\n"
      ],
      "metadata": {
        "colab": {
          "base_uri": "https://localhost:8080/"
        },
        "id": "pNamRk5zeTfS",
        "outputId": "10e6b4c4-01b0-43f9-a602-0ad2176f144f"
      },
      "execution_count": 8,
      "outputs": [
        {
          "output_type": "stream",
          "name": "stdout",
          "text": [
            "i am outside the if code block!\n"
          ]
        }
      ]
    },
    {
      "cell_type": "code",
      "source": [
        "#input from user\n",
        "print(\"Enter a number1\")\n",
        "num1 = input()\n",
        "\n",
        "\n",
        "#input from user\n",
        "print(\"Enter a number2\")\n",
        "num2 = input()\n",
        "\n",
        "if (num1)>(num2):\n",
        "  print(num1,\" is greater than\",num2)\n",
        "elif (num2)>(num1):\n",
        "  print(num2,\" is greater than\",num1)\n",
        "else:\n",
        "  print(num1, \"is equal to\", num2)\n"
      ],
      "metadata": {
        "colab": {
          "base_uri": "https://localhost:8080/"
        },
        "id": "c0UVRDjseTTY",
        "outputId": "4a38c658-26dc-4667-ccae-3fefc96f6da7"
      },
      "execution_count": 31,
      "outputs": [
        {
          "output_type": "stream",
          "name": "stdout",
          "text": [
            "Enter a number1\n",
            "1\n",
            "Enter a number2\n",
            "1\n",
            "1 is equal to 1\n"
          ]
        }
      ]
    },
    {
      "cell_type": "code",
      "source": [
        "print(\"Enter a marks\")\n",
        "marks=input()\n",
        "if marks>=\"35\":\n",
        "  print(\"pass\")\n",
        "else:\n",
        "  print(\"fail\")"
      ],
      "metadata": {
        "id": "20DPxA1StGXV",
        "outputId": "a0891649-d1e3-4875-aae4-18a27691657c",
        "colab": {
          "base_uri": "https://localhost:8080/"
        }
      },
      "execution_count": 33,
      "outputs": [
        {
          "output_type": "stream",
          "name": "stdout",
          "text": [
            "Enter a marks\n",
            "34\n",
            "fail\n"
          ]
        }
      ]
    },
    {
      "cell_type": "code",
      "source": [
        "print(\"Enter a number\")\n",
        "num=input()\n",
        "if int(num) % 2==0:\n",
        "  print(\"Even\")\n",
        "else:\n",
        "  print(\"Odd\")"
      ],
      "metadata": {
        "id": "G3tc512Rtp7k",
        "outputId": "9384db24-b95e-45a2-b0f9-6a094354ab7d",
        "colab": {
          "base_uri": "https://localhost:8080/"
        }
      },
      "execution_count": 36,
      "outputs": [
        {
          "output_type": "stream",
          "name": "stdout",
          "text": [
            "Enter a number\n",
            "7\n",
            "Odd\n"
          ]
        }
      ]
    },
    {
      "cell_type": "code",
      "source": [
        "print(\"Enter a number\")\n",
        "num = float(input())\n",
        "if num==1:\n",
        "  print(\"Sunday\")\n",
        "elif num==2:\n",
        "  print(\"Monday\")\n",
        "elif num==3:\n",
        "  print(\"Tuesday\")\n",
        "elif num==4:\n",
        "  print(\"Wednesday\")\n",
        "elif num==5:\n",
        "  print(\"Thursday\")\n",
        "elif num==6:\n",
        "  print(\"Friday\")\n",
        "elif num==7:\n",
        "  print(\"Saturday\")\n",
        "else:\n",
        "  print(\"Invalid Input\")"
      ],
      "metadata": {
        "id": "Y7hH1gWZuOQm",
        "outputId": "c6fec07e-44e1-4936-ceca-63f67ff6b546",
        "colab": {
          "base_uri": "https://localhost:8080/"
        }
      },
      "execution_count": 43,
      "outputs": [
        {
          "output_type": "stream",
          "name": "stdout",
          "text": [
            "Enter a number\n",
            "3.5\n",
            "Invalid Input\n"
          ]
        }
      ]
    }
  ]
}