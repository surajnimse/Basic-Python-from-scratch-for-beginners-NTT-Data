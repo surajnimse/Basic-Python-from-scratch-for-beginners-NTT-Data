{
  "nbformat": 4,
  "nbformat_minor": 0,
  "metadata": {
    "colab": {
      "provenance": [],
      "include_colab_link": true
    },
    "kernelspec": {
      "name": "python3",
      "display_name": "Python 3"
    },
    "language_info": {
      "name": "python"
    }
  },
  "cells": [
    {
      "cell_type": "markdown",
      "metadata": {
        "id": "view-in-github",
        "colab_type": "text"
      },
      "source": [
        "<a href=\"https://colab.research.google.com/github/surajnimse/Basic-Python-from-scratch-for-beginners-NTT-Data/blob/main/python_basics_day6.ipynb\" target=\"_parent\"><img src=\"https://colab.research.google.com/assets/colab-badge.svg\" alt=\"Open In Colab\"/></a>"
      ]
    },
    {
      "cell_type": "code",
      "execution_count": 7,
      "metadata": {
        "colab": {
          "base_uri": "https://localhost:8080/"
        },
        "id": "fooBKl8FmcO4",
        "outputId": "c3df5ea3-58f7-4877-ccbe-3d692dd785c7"
      },
      "outputs": [
        {
          "output_type": "stream",
          "name": "stdout",
          "text": [
            "[20, 30, 40]\n"
          ]
        }
      ],
      "source": [
        "#list POP and Remove\n",
        "\n",
        "l1=[10,20,30,40,50]\n",
        "l1.remove(10)\n",
        "l1.pop()\n",
        "print(l1)"
      ]
    },
    {
      "cell_type": "code",
      "source": [
        "#list POP and Remove\n",
        "\n",
        "l1=[10,20,30,40,50]\n",
        "k=l1.remove(10)\n",
        "print(k)\n",
        "l=l1.pop()\n",
        "print(l)"
      ],
      "metadata": {
        "id": "oGsBy53LjjI_",
        "outputId": "282794b2-3b1d-46d9-fc61-96c849a4ca46",
        "colab": {
          "base_uri": "https://localhost:8080/"
        }
      },
      "execution_count": 9,
      "outputs": [
        {
          "output_type": "stream",
          "name": "stdout",
          "text": [
            "None\n",
            "50\n"
          ]
        }
      ]
    },
    {
      "cell_type": "code",
      "source": [
        "#remove duplicates from  list\n",
        "l1=[10,25,36,10,81,25]\n",
        "l2=[]\n",
        "for i in l1:\n",
        "    if i not in l2:\n",
        "        l2.append(i)\n",
        "print(l2)"
      ],
      "metadata": {
        "id": "OUK4wNnJkIAa",
        "outputId": "e99482f2-fbf2-4161-e416-2eefda4fc053",
        "colab": {
          "base_uri": "https://localhost:8080/"
        }
      },
      "execution_count": 10,
      "outputs": [
        {
          "output_type": "stream",
          "name": "stdout",
          "text": [
            "[10, 25, 36, 81]\n"
          ]
        }
      ]
    },
    {
      "cell_type": "code",
      "source": [
        "remove duplicates rom  list using pop or remove mothod\n"
      ],
      "metadata": {
        "id": "O_Y5ZqJOkQqa"
      },
      "execution_count": null,
      "outputs": []
    }
  ]
}