{
  "nbformat": 4,
  "nbformat_minor": 0,
  "metadata": {
    "colab": {
      "provenance": []
    },
    "kernelspec": {
      "name": "python3",
      "display_name": "Python 3"
    },
    "language_info": {
      "name": "python"
    }
  },
  "cells": [
    {
      "cell_type": "code",
      "source": [
        "# dynamic programmin\n",
        "a=10\n",
        "print(a)\n",
        "print(\"a=\",id(a))\n",
        "\n",
        "b=10\n",
        "print(b)\n",
        "print(\"b=\",id(b))\n",
        "\n",
        "c=a\n",
        "print(c)\n",
        "print(\"c=\",id(c))"
      ],
      "metadata": {
        "colab": {
          "base_uri": "https://localhost:8080/"
        },
        "id": "dz3hWxrDr83q",
        "outputId": "2de698eb-1706-4798-d2f7-b8bce6065392"
      },
      "execution_count": 9,
      "outputs": [
        {
          "output_type": "stream",
          "name": "stdout",
          "text": [
            "10\n",
            "a= 10751144\n",
            "10\n",
            "b= 10751144\n",
            "10\n",
            "c= 10751144\n"
          ]
        }
      ]
    },
    {
      "cell_type": "code",
      "source": [
        "a=\"ntt\"\n",
        "print(a)\n",
        "print(\"a=\",id(a))"
      ],
      "metadata": {
        "id": "YVsZXCbBvq5q",
        "outputId": "34a429f5-124e-45a3-9964-eda1615dad13",
        "colab": {
          "base_uri": "https://localhost:8080/"
        }
      },
      "execution_count": 10,
      "outputs": [
        {
          "output_type": "stream",
          "name": "stdout",
          "text": [
            "ntt\n",
            "a= 139714304588720\n"
          ]
        }
      ]
    },
    {
      "cell_type": "code",
      "source": [
        "# deleting a variable\n",
        "a=20\n",
        "print(a)\n",
        "del a\n",
        "#print(a)"
      ],
      "metadata": {
        "id": "YL2TFeAA0NUs",
        "outputId": "7276c163-a2cc-4fe1-a6ff-52e982e001b8",
        "colab": {
          "base_uri": "https://localhost:8080/"
        }
      },
      "execution_count": 15,
      "outputs": [
        {
          "output_type": "stream",
          "name": "stdout",
          "text": [
            "20\n"
          ]
        }
      ]
    },
    {
      "cell_type": "code",
      "source": [
        "# creating multiple vars\n",
        "a,b,c=10,20.12,\"ntt\"\n",
        "print(a,b,c)\n",
        "print(a)\n",
        "print(b)\n",
        "print(c)\n",
        "\n",
        "a=b=c=100\n",
        "print(a,b,c)\n"
      ],
      "metadata": {
        "id": "Yy5w-UNG0hxa",
        "outputId": "68184b96-78b1-4aaf-e7b0-81f8aa9421c5",
        "colab": {
          "base_uri": "https://localhost:8080/"
        }
      },
      "execution_count": 19,
      "outputs": [
        {
          "output_type": "stream",
          "name": "stdout",
          "text": [
            "10 20.12 ntt\n",
            "10\n",
            "20.12\n",
            "ntt\n",
            "100 100 100\n"
          ]
        }
      ]
    }
  ]
}