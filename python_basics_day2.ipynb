{
  "nbformat": 4,
  "nbformat_minor": 0,
  "metadata": {
    "colab": {
      "provenance": []
    },
    "kernelspec": {
      "name": "python3",
      "display_name": "Python 3"
    },
    "language_info": {
      "name": "python"
    }
  },
  "cells": [
    {
      "cell_type": "code",
      "source": [
        "# dynamic programmin\n",
        "a=10\n",
        "print(a)\n",
        "print(\"a=\",id(a))\n",
        "\n",
        "b=10\n",
        "print(b)\n",
        "print(\"b=\",id(b))\n",
        "\n",
        "c=a\n",
        "print(c)\n",
        "print(\"c=\",id(c))"
      ],
      "metadata": {
        "colab": {
          "base_uri": "https://localhost:8080/"
        },
        "id": "dz3hWxrDr83q",
        "outputId": "2de698eb-1706-4798-d2f7-b8bce6065392"
      },
      "execution_count": 9,
      "outputs": [
        {
          "output_type": "stream",
          "name": "stdout",
          "text": [
            "10\n",
            "a= 10751144\n",
            "10\n",
            "b= 10751144\n",
            "10\n",
            "c= 10751144\n"
          ]
        }
      ]
    },
    {
      "cell_type": "code",
      "source": [
        "a=\"ntt\"\n",
        "print(a)\n",
        "print(\"a=\",id(a))"
      ],
      "metadata": {
        "colab": {
          "base_uri": "https://localhost:8080/"
        },
        "id": "YVsZXCbBvq5q",
        "outputId": "34a429f5-124e-45a3-9964-eda1615dad13"
      },
      "execution_count": 10,
      "outputs": [
        {
          "output_type": "stream",
          "name": "stdout",
          "text": [
            "ntt\n",
            "a= 139714304588720\n"
          ]
        }
      ]
    },
    {
      "cell_type": "code",
      "source": [
        "# deleting a variable\n",
        "a=20\n",
        "print(a)\n",
        "del a\n",
        "#print(a)"
      ],
      "metadata": {
        "colab": {
          "base_uri": "https://localhost:8080/"
        },
        "id": "YL2TFeAA0NUs",
        "outputId": "7276c163-a2cc-4fe1-a6ff-52e982e001b8"
      },
      "execution_count": 15,
      "outputs": [
        {
          "output_type": "stream",
          "name": "stdout",
          "text": [
            "20\n"
          ]
        }
      ]
    },
    {
      "cell_type": "code",
      "source": [
        "# creating multiple vars\n",
        "a,b,c=10,20.12,\"ntt\"\n",
        "print(a,b,c)\n",
        "print(a)\n",
        "print(b)\n",
        "print(c)\n",
        "\n",
        "a=b=c=100\n",
        "print(a,b,c)\n"
      ],
      "metadata": {
        "colab": {
          "base_uri": "https://localhost:8080/"
        },
        "id": "Yy5w-UNG0hxa",
        "outputId": "68184b96-78b1-4aaf-e7b0-81f8aa9421c5"
      },
      "execution_count": 19,
      "outputs": [
        {
          "output_type": "stream",
          "name": "stdout",
          "text": [
            "10 20.12 ntt\n",
            "10\n",
            "20.12\n",
            "ntt\n",
            "100 100 100\n"
          ]
        }
      ]
    },
    {
      "cell_type": "code",
      "source": [
        "#variable annotation\n",
        "a:int=10\n",
        "print(a)\n",
        "print(__annotations__['a'])\n",
        "\n",
        "b:float=20.12\n",
        "print(b)\n",
        "print(__annotations__['b'])\n",
        "\n",
        "c:str=\"ntt\"\n",
        "print(c)\n",
        "print(__annotations__['c'])\n"
      ],
      "metadata": {
        "id": "f3Oy9Z-t1L62",
        "outputId": "dabe2a2e-38d5-4365-8f3e-b97a7bdb12a2",
        "colab": {
          "base_uri": "https://localhost:8080/"
        }
      },
      "execution_count": 22,
      "outputs": [
        {
          "output_type": "stream",
          "name": "stdout",
          "text": [
            "10\n",
            "<class 'int'>\n",
            "20.12\n",
            "<class 'float'>\n",
            "ntt\n",
            "<class 'str'>\n"
          ]
        }
      ]
    },
    {
      "cell_type": "code",
      "source": [
        "# keyword list in python\n",
        "import keyword\n",
        "print(keyword.kwlist)\n",
        "print(len(keyword.kwlist))"
      ],
      "metadata": {
        "id": "qs4s-3yo2kNM",
        "outputId": "fc71cc8c-b9c2-4645-da5b-f75cbe6550b1",
        "colab": {
          "base_uri": "https://localhost:8080/"
        }
      },
      "execution_count": 24,
      "outputs": [
        {
          "output_type": "stream",
          "name": "stdout",
          "text": [
            "['False', 'None', 'True', 'and', 'as', 'assert', 'async', 'await', 'break', 'class', 'continue', 'def', 'del', 'elif', 'else', 'except', 'finally', 'for', 'from', 'global', 'if', 'import', 'in', 'is', 'lambda', 'nonlocal', 'not', 'or', 'pass', 'raise', 'return', 'try', 'while', 'with', 'yield']\n",
            "35\n"
          ]
        }
      ]
    },
    {
      "cell_type": "code",
      "source": [
        "#comments in python\n",
        "\n",
        "# single line comment\n",
        "\n",
        "#multi line comment\n",
        "\n",
        "''' multi line comment '''\n",
        "\"\"\" multi line comment \"\"\""
      ],
      "metadata": {
        "id": "LqchLvMs3ebW",
        "outputId": "7abe315f-45f4-41cb-9e91-cd8924397d65",
        "colab": {
          "base_uri": "https://localhost:8080/",
          "height": 35
        }
      },
      "execution_count": 26,
      "outputs": [
        {
          "output_type": "execute_result",
          "data": {
            "text/plain": [
              "' multi line comment '"
            ],
            "application/vnd.google.colaboratory.intrinsic+json": {
              "type": "string"
            }
          },
          "metadata": {},
          "execution_count": 26
        }
      ]
    }
  ]
}