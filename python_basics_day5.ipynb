{
  "nbformat": 4,
  "nbformat_minor": 0,
  "metadata": {
    "colab": {
      "provenance": []
    },
    "kernelspec": {
      "name": "python3",
      "display_name": "Python 3"
    },
    "language_info": {
      "name": "python"
    }
  },
  "cells": [
    {
      "cell_type": "code",
      "execution_count": 1,
      "metadata": {
        "colab": {
          "base_uri": "https://localhost:8080/"
        },
        "id": "fooBKl8FmcO4",
        "outputId": "b054fdd5-9e5a-4491-d9b2-cd4651d54f30"
      },
      "outputs": [
        {
          "output_type": "stream",
          "name": "stdout",
          "text": [
            "welcome to Python world\n"
          ]
        }
      ],
      "source": [
        "print(\"welcome to Python world\")"
      ]
    },
    {
      "cell_type": "code",
      "source": [
        "#list is sequesting of diffrent chars,datatypes\n",
        "\n",
        "\n"
      ],
      "metadata": {
        "id": "456iibnZml4b"
      },
      "execution_count": null,
      "outputs": []
    },
    {
      "cell_type": "code",
      "source": [
        "# List Indexing\n",
        "\n",
        "\n"
      ],
      "metadata": {
        "id": "z2k9YXjaRigu"
      },
      "execution_count": null,
      "outputs": []
    },
    {
      "cell_type": "code",
      "source": [
        "#List Slicing\n",
        "\n",
        "l1=[10,20.3,3.15,\"ntt\",[1,2,3]]\n",
        "print(l1[::])\n",
        "\n",
        "print(l1[:2:])\n",
        "\n",
        "print(l1[::-1])"
      ],
      "metadata": {
        "id": "kAsFDfbyRk3L",
        "outputId": "f6d2d0b0-818d-4671-afca-58a7ff486cc5",
        "colab": {
          "base_uri": "https://localhost:8080/"
        }
      },
      "execution_count": 6,
      "outputs": [
        {
          "output_type": "stream",
          "name": "stdout",
          "text": [
            "[10, 20.3, 3.15, 'ntt', [1, 2, 3]]\n",
            "[10, 20.3]\n",
            "[[1, 2, 3], 'ntt', 3.15, 20.3, 10]\n"
          ]
        }
      ]
    },
    {
      "cell_type": "code",
      "source": [
        "#List operations\n",
        "\n",
        "#concat\n",
        "\n",
        "l1=[10,20,30]\n",
        "l2=[40,50,60]\n",
        "print(l1+l2)\n",
        "\n",
        "#multiplication\n",
        "l3=[1,2,3,4,5]\n",
        "print(l3*5)\n"
      ],
      "metadata": {
        "id": "6f3atd1LSQzK",
        "outputId": "7f8f0aad-3fcf-4485-f63b-ab2764d21761",
        "colab": {
          "base_uri": "https://localhost:8080/"
        }
      },
      "execution_count": 13,
      "outputs": [
        {
          "output_type": "stream",
          "name": "stdout",
          "text": [
            "[10, 20, 30, 40, 50, 60]\n",
            "[1, 2, 3, 4, 5, 1, 2, 3, 4, 5, 1, 2, 3, 4, 5, 1, 2, 3, 4, 5, 1, 2, 3, 4, 5]\n"
          ]
        }
      ]
    },
    {
      "cell_type": "code",
      "source": [
        "#list iteration\n",
        "\n",
        "l1=[10,20,30,40,50]\n",
        "for i in l1:\n",
        "    print(i)\n"
      ],
      "metadata": {
        "id": "cyf1xR1ATmrF",
        "outputId": "e025c97a-fc86-421f-cd2c-6919c0e31ef4",
        "colab": {
          "base_uri": "https://localhost:8080/"
        }
      },
      "execution_count": 18,
      "outputs": [
        {
          "output_type": "stream",
          "name": "stdout",
          "text": [
            "10\n",
            "20\n",
            "30\n",
            "40\n",
            "50\n"
          ]
        }
      ]
    },
    {
      "cell_type": "code",
      "source": [
        "#list membership\n",
        "\n",
        "l1=[10,20,30,40,50]\n",
        "print(10 in l1)\n",
        "print(10 not in l1)"
      ],
      "metadata": {
        "id": "ICygaz-ET-AM",
        "outputId": "a449d811-a136-42e9-9c9f-851514dcd140",
        "colab": {
          "base_uri": "https://localhost:8080/"
        }
      },
      "execution_count": 23,
      "outputs": [
        {
          "output_type": "stream",
          "name": "stdout",
          "text": [
            "True\n",
            "False\n"
          ]
        }
      ]
    },
    {
      "cell_type": "code",
      "source": [
        "#deletion of list\n",
        "l1=[10,20,30,40,50]\n",
        "del l1[0]\n",
        "#del l1\n",
        "print(l1)"
      ],
      "metadata": {
        "id": "XRp4YoSjUQtE",
        "outputId": "e65b1a7f-e8e1-4ea6-b117-9e853594af7f",
        "colab": {
          "base_uri": "https://localhost:8080/"
        }
      },
      "execution_count": 27,
      "outputs": [
        {
          "output_type": "stream",
          "name": "stdout",
          "text": [
            "[20, 30, 40, 50]\n"
          ]
        }
      ]
    },
    {
      "cell_type": "code",
      "source": [
        "#max element\n",
        "\n",
        "l1=[10,20,20]\n",
        "l2=[\"apple\",\"Amma\",\"BallBallBall\"]\n",
        "print(max(l1))\n",
        "print(max(l2))\n",
        "print(max(l2,key=len))\n",
        "print(min(l1))\n",
        "print(min(l2))\n",
        "print(min(l2,key=len))"
      ],
      "metadata": {
        "id": "fHXhHzh4UZD7",
        "outputId": "8ee27429-67c0-4fd3-c03f-d538cb73a7a2",
        "colab": {
          "base_uri": "https://localhost:8080/"
        }
      },
      "execution_count": 35,
      "outputs": [
        {
          "output_type": "stream",
          "name": "stdout",
          "text": [
            "20\n",
            "apple\n",
            "BallBallBall\n",
            "10\n"
          ]
        }
      ]
    },
    {
      "cell_type": "code",
      "source": [
        "# list append take input from user\n",
        "l1=[1,2,3]\n",
        "l2=[4,5,6]\n",
        "print(l1+l2)\n",
        "l3=l1.append(l2)\n",
        "print(l3)"
      ],
      "metadata": {
        "id": "n39fnXiqcFMR",
        "outputId": "2fef059e-58ea-445e-fa6c-2b29783df5b4",
        "colab": {
          "base_uri": "https://localhost:8080/"
        }
      },
      "execution_count": 38,
      "outputs": [
        {
          "output_type": "stream",
          "name": "stdout",
          "text": [
            "[1, 2, 3, 4, 5, 6]\n",
            "None\n"
          ]
        }
      ]
    },
    {
      "cell_type": "code",
      "source": [
        "# list append take input from user\n",
        "l1=[]\n",
        "i=0\n",
        "while(i<5):\n",
        "  print(\"Enter a number\")\n",
        "  l1.append(input())\n",
        "  i=i+1\n",
        "  print(l1)"
      ],
      "metadata": {
        "id": "Nqie0dAVc4nC",
        "outputId": "e5fce790-5f2e-409a-b053-d644e0ddfbd7",
        "colab": {
          "base_uri": "https://localhost:8080/"
        }
      },
      "execution_count": 44,
      "outputs": [
        {
          "output_type": "stream",
          "name": "stdout",
          "text": [
            "Enter a number\n",
            "1\n",
            "['1']\n",
            "Enter a number\n",
            "3\n",
            "['1', '3']\n",
            "Enter a number\n",
            "4\n",
            "['1', '3', '4']\n",
            "Enter a number\n",
            "5\n",
            "['1', '3', '4', '5']\n",
            "Enter a number\n",
            "6\n",
            "['1', '3', '4', '5', '6']\n"
          ]
        }
      ]
    }
  ]
}