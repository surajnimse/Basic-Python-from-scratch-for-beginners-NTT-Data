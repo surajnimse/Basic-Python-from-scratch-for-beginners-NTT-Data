{
  "nbformat": 4,
  "nbformat_minor": 0,
  "metadata": {
    "colab": {
      "provenance": [],
      "include_colab_link": true
    },
    "kernelspec": {
      "name": "python3",
      "display_name": "Python 3"
    },
    "language_info": {
      "name": "python"
    }
  },
  "cells": [
    {
      "cell_type": "markdown",
      "metadata": {
        "id": "view-in-github",
        "colab_type": "text"
      },
      "source": [
        "<a href=\"https://colab.research.google.com/github/surajnimse/Basic-Python-from-scratch-for-beginners-NTT-Data/blob/main/python_basics_day5.ipynb\" target=\"_parent\"><img src=\"https://colab.research.google.com/assets/colab-badge.svg\" alt=\"Open In Colab\"/></a>"
      ]
    },
    {
      "cell_type": "code",
      "execution_count": null,
      "metadata": {
        "id": "fooBKl8FmcO4"
      },
      "outputs": [],
      "source": [
        "print(\"welcome to Python world\")"
      ]
    },
    {
      "cell_type": "code",
      "source": [
        "#list is sequesting of diffrent chars,datatypes\n",
        "\n",
        "\n"
      ],
      "metadata": {
        "id": "456iibnZml4b"
      },
      "execution_count": null,
      "outputs": []
    },
    {
      "cell_type": "code",
      "source": [
        "# List Indexing\n",
        "\n",
        "\n"
      ],
      "metadata": {
        "id": "z2k9YXjaRigu"
      },
      "execution_count": null,
      "outputs": []
    },
    {
      "cell_type": "code",
      "source": [
        "#List Slicing\n",
        "\n",
        "l1=[10,20.3,3.15,\"ntt\",[1,2,3]]\n",
        "print(l1[::])\n",
        "\n",
        "print(l1[:2:])\n",
        "\n",
        "print(l1[::-1])"
      ],
      "metadata": {
        "id": "kAsFDfbyRk3L"
      },
      "execution_count": null,
      "outputs": []
    },
    {
      "cell_type": "code",
      "source": [
        "#List operations\n",
        "\n",
        "#concat\n",
        "\n",
        "l1=[10,20,30]\n",
        "l2=[40,50,60]\n",
        "print(l1+l2)\n",
        "\n",
        "#multiplication\n",
        "l3=[1,2,3,4,5]\n",
        "print(l3*5)\n"
      ],
      "metadata": {
        "id": "6f3atd1LSQzK"
      },
      "execution_count": null,
      "outputs": []
    },
    {
      "cell_type": "code",
      "source": [
        "#list iteration\n",
        "\n",
        "l1=[10,20,30,40,50]\n",
        "for i in l1:\n",
        "    print(i)\n"
      ],
      "metadata": {
        "id": "cyf1xR1ATmrF"
      },
      "execution_count": null,
      "outputs": []
    },
    {
      "cell_type": "code",
      "source": [
        "#list membership\n",
        "\n",
        "l1=[10,20,30,40,50]\n",
        "print(10 in l1)\n",
        "print(10 not in l1)"
      ],
      "metadata": {
        "id": "ICygaz-ET-AM"
      },
      "execution_count": null,
      "outputs": []
    },
    {
      "cell_type": "code",
      "source": [
        "#deletion of list\n",
        "l1=[10,20,30,40,50]\n",
        "del l1[0]\n",
        "#del l1\n",
        "print(l1)"
      ],
      "metadata": {
        "id": "XRp4YoSjUQtE"
      },
      "execution_count": null,
      "outputs": []
    },
    {
      "cell_type": "code",
      "source": [
        "#max element\n",
        "\n",
        "l1=[10,20,20]\n",
        "l2=[\"apple\",\"Amma\",\"BallBallBall\"]\n",
        "print(max(l1))\n",
        "print(max(l2))\n",
        "print(max(l2,key=len))\n",
        "print(min(l1))\n",
        "print(min(l2))\n",
        "print(min(l2,key=len))"
      ],
      "metadata": {
        "id": "fHXhHzh4UZD7"
      },
      "execution_count": null,
      "outputs": []
    },
    {
      "cell_type": "code",
      "source": [
        "# list append take input from user\n",
        "l1=[1,2,3]\n",
        "l2=[4,5,6]\n",
        "print(l1+l2)\n",
        "l3=l1.append(l2)\n",
        "print(l3)"
      ],
      "metadata": {
        "id": "n39fnXiqcFMR"
      },
      "execution_count": null,
      "outputs": []
    },
    {
      "cell_type": "code",
      "source": [
        "# list append take input from user\n",
        "l1=[]\n",
        "i=0\n",
        "while(i<5):\n",
        "  print(\"Enter a number\")\n",
        "  l1.append(input())\n",
        "  i=i+1\n",
        "  print(l1)"
      ],
      "metadata": {
        "id": "Nqie0dAVc4nC"
      },
      "execution_count": null,
      "outputs": []
    },
    {
      "cell_type": "code",
      "source": [
        "l1=[]\n",
        "i=5\n",
        "for i in range(1,6):\n",
        "  l1.append(i)\n",
        "i=i+1\n",
        "print(l1)\n"
      ],
      "metadata": {
        "id": "qESZtzVBeFU4",
        "outputId": "ab27ded2-1cdd-4045-b82f-c0dfb33f0b88",
        "colab": {
          "base_uri": "https://localhost:8080/"
        }
      },
      "execution_count": 53,
      "outputs": [
        {
          "output_type": "stream",
          "name": "stdout",
          "text": [
            "[1, 2, 3, 4, 5]\n"
          ]
        }
      ]
    },
    {
      "cell_type": "code",
      "source": [
        "# prompt: write a code which appends 1 to 10 in list.\n",
        "\n",
        "my_list = []\n",
        "for i in range(1, 11):\n",
        "  my_list.append(i)\n",
        "\n",
        "my_list\n"
      ],
      "metadata": {
        "id": "5E1ncjDQexIt"
      },
      "execution_count": null,
      "outputs": []
    }
  ]
}