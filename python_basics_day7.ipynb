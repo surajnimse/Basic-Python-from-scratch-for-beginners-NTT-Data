{
  "nbformat": 4,
  "nbformat_minor": 0,
  "metadata": {
    "colab": {
      "provenance": [],
      "include_colab_link": true
    },
    "kernelspec": {
      "name": "python3",
      "display_name": "Python 3"
    },
    "language_info": {
      "name": "python"
    }
  },
  "cells": [
    {
      "cell_type": "markdown",
      "metadata": {
        "id": "view-in-github",
        "colab_type": "text"
      },
      "source": [
        "<a href=\"https://colab.research.google.com/github/surajnimse/Basic-Python-from-scratch-for-beginners-NTT-Data/blob/main/python_basics_day7.ipynb\" target=\"_parent\"><img src=\"https://colab.research.google.com/assets/colab-badge.svg\" alt=\"Open In Colab\"/></a>"
      ]
    },
    {
      "cell_type": "code",
      "source": [
        "#dictionary\n",
        "dict1={\"pp\":\"alex\",\"qq\":\"balan\",\"rr\":\"catherine\",\"ss\":\"dinesh\"}\n",
        "print(dict1)\n",
        "print(type(dict1))\n",
        "\n",
        "#access the dict\n",
        "print(dict1[\"pp\"])"
      ],
      "metadata": {
        "colab": {
          "base_uri": "https://localhost:8080/"
        },
        "id": "S5T1rfl_0o0O",
        "outputId": "b19d40af-08f2-44e5-98ed-804f48ae8d92"
      },
      "execution_count": 2,
      "outputs": [
        {
          "output_type": "stream",
          "name": "stdout",
          "text": [
            "{'pp': 'alex', 'qq': 'balan', 'rr': 'catherine', 'ss': 'dinesh'}\n",
            "<class 'dict'>\n",
            "alex\n"
          ]
        }
      ]
    },
    {
      "cell_type": "code",
      "source": [
        "#dict\n",
        "dict2={9881:[\"shiva\",43,\"aaa fff street blr\"],\n",
        "       9882:[\"suraj\",44,\"bbb ggg street hyd\"],\n",
        "       9883:[\"dinesh\",45,\"ccc hhh street chn\"],\n",
        "       }\n",
        "print(dict2)\n",
        "print(dict2[9881])\n",
        "\n",
        "print(dict2[9882])\n",
        "print(dict2[9883])\n",
        "\n",
        "dict2={9884:[\"balan\",46,\"aaa fff street cho\"]       }\n",
        "print(dict2)\n"
      ],
      "metadata": {
        "colab": {
          "base_uri": "https://localhost:8080/"
        },
        "id": "hdHEPqBi3YsM",
        "outputId": "55ef74ad-d19f-4ee7-f9c1-17e9416e960c"
      },
      "execution_count": 6,
      "outputs": [
        {
          "output_type": "stream",
          "name": "stdout",
          "text": [
            "{9881: ['shiva', 43, 'aaa fff street blr'], 9882: ['suraj', 44, 'bbb ggg street hyd'], 9883: ['dinesh', 45, 'ccc hhh street chn']}\n",
            "['shiva', 43, 'aaa fff street blr']\n",
            "['suraj', 44, 'bbb ggg street hyd']\n",
            "['dinesh', 45, 'ccc hhh street chn']\n",
            "{9884: ['balan', 46, 'aaa fff street cho']}\n"
          ]
        }
      ]
    },
    {
      "cell_type": "code",
      "source": [
        "# dict operations using inbuilt method.\n",
        "dict3={1001:[\"shiva\",43,\"blr\"],\n",
        "       1002:[\"suraj\",44,\"hyd\"],\n",
        "       1003:[\"dinesh\",45,\"chn\"],\n",
        "       }\n",
        "print(dict3)\n",
        "print(dict3.keys())\n",
        "print(dict3.values())\n",
        "print(dict3.items())\n",
        "\n",
        "val=dict3.items()\n",
        "print(val)\n",
        "print(type(val))\n",
        "l=list(val)\n",
        "print(l)\n",
        "print(type(l))\n",
        "dict3.clear()\n",
        "print(dict3)\n",
        "\n",
        "dict1={1001:[\"shiva\",43,\"blr\"],\n",
        "       1002:[\"suraj\",44,\"hyd\"],\n",
        "       1003:[\"dinesh\",45,\"chn\"],\n",
        "       }\n",
        "dict2=dict1.copy()\n",
        "print(dict2)\n"
      ],
      "metadata": {
        "colab": {
          "base_uri": "https://localhost:8080/"
        },
        "id": "FoSf6JqP4iuX",
        "outputId": "c72260c7-cfda-414b-9bea-6971c5bcd619"
      },
      "execution_count": 19,
      "outputs": [
        {
          "output_type": "stream",
          "name": "stdout",
          "text": [
            "{1001: ['shiva', 43, 'blr'], 1002: ['suraj', 44, 'hyd'], 1003: ['dinesh', 45, 'chn']}\n",
            "dict_keys([1001, 1002, 1003])\n",
            "dict_values([['shiva', 43, 'blr'], ['suraj', 44, 'hyd'], ['dinesh', 45, 'chn']])\n",
            "dict_items([(1001, ['shiva', 43, 'blr']), (1002, ['suraj', 44, 'hyd']), (1003, ['dinesh', 45, 'chn'])])\n",
            "dict_items([(1001, ['shiva', 43, 'blr']), (1002, ['suraj', 44, 'hyd']), (1003, ['dinesh', 45, 'chn'])])\n",
            "<class 'dict_items'>\n",
            "[(1001, ['shiva', 43, 'blr']), (1002, ['suraj', 44, 'hyd']), (1003, ['dinesh', 45, 'chn'])]\n",
            "<class 'list'>\n",
            "{}\n",
            "{1001: ['shiva', 43, 'blr'], 1002: ['suraj', 44, 'hyd'], 1003: ['dinesh', 45, 'chn']}\n"
          ]
        }
      ]
    },
    {
      "cell_type": "code",
      "source": [
        "\n",
        "dict1={1001:[\"shiva\",43,\"blr\"],\n",
        "       1002:[\"suraj\",44,\"hyd\"],\n",
        "       1003:[\"dinesh\",45,\"chn\"],\n",
        "       }\n",
        "dict2=dict1.copy()\n",
        "print(dict2)\n",
        "dict1[1003]=[\"raj\",45,\"chn\"]\n",
        "\n",
        "print(dict1)\n",
        "print(dict2)\n"
      ],
      "metadata": {
        "colab": {
          "base_uri": "https://localhost:8080/"
        },
        "id": "P9yHuJYi-SG8",
        "outputId": "e3c3bf1f-97de-4a8d-a140-c3c06cbdbd57"
      },
      "execution_count": 28,
      "outputs": [
        {
          "output_type": "stream",
          "name": "stdout",
          "text": [
            "{1001: ['shiva', 43, 'blr'], 1002: ['suraj', 44, 'hyd'], 1003: ['dinesh', 45, 'chn']}\n",
            "{1001: ['shiva', 43, 'blr'], 1002: ['suraj', 44, 'hyd'], 1003: ['raj', 45, 'chn']}\n",
            "{1001: ['shiva', 43, 'blr'], 1002: ['suraj', 44, 'hyd'], 1003: ['dinesh', 45, 'chn']}\n"
          ]
        }
      ]
    },
    {
      "cell_type": "code",
      "source": [
        "# SET\n",
        "set1={10,20,30,40,50,10}\n",
        "print(set1)\n",
        "print(type(set1))"
      ],
      "metadata": {
        "colab": {
          "base_uri": "https://localhost:8080/"
        },
        "id": "l-ZobwVR-Jhz",
        "outputId": "84290cf7-9424-4de6-9a93-69b8e9125c38"
      },
      "execution_count": 34,
      "outputs": [
        {
          "output_type": "stream",
          "name": "stdout",
          "text": [
            "{50, 20, 40, 10, 30}\n",
            "<class 'set'>\n"
          ]
        }
      ]
    },
    {
      "cell_type": "code",
      "source": [
        "set2=\"ntt data\"\n",
        "print(set2)\n",
        "print(type(set2))"
      ],
      "metadata": {
        "id": "STSWfFnWAfzF",
        "outputId": "8ae6e384-78e5-4e22-eea1-dad91569929c",
        "colab": {
          "base_uri": "https://localhost:8080/"
        }
      },
      "execution_count": 36,
      "outputs": [
        {
          "output_type": "stream",
          "name": "stdout",
          "text": [
            "ntt data\n",
            "<class 'str'>\n"
          ]
        }
      ]
    },
    {
      "cell_type": "code",
      "source": [
        "#where sets are used.\n",
        "l1=[10,20,30,40,50,10,40,60,50]\n",
        "print(l1)\n",
        "print(type(l1))\n",
        "s1=set(l1)\n",
        "print(s1)\n",
        "print(type(s1))\n",
        "\n",
        "l1=list(s1)\n",
        "print(l1)\n",
        "print(type(l1))\n"
      ],
      "metadata": {
        "id": "MIr-I5rnCqkL",
        "outputId": "a9b469e4-917a-4ce9-810a-d835631b6b5b",
        "colab": {
          "base_uri": "https://localhost:8080/"
        }
      },
      "execution_count": 41,
      "outputs": [
        {
          "output_type": "stream",
          "name": "stdout",
          "text": [
            "[10, 20, 30, 40, 50, 10, 40, 60, 50]\n",
            "<class 'list'>\n",
            "{40, 10, 50, 20, 60, 30}\n",
            "<class 'set'>\n",
            "[40, 10, 50, 20, 60, 30]\n",
            "<class 'list'>\n"
          ]
        }
      ]
    },
    {
      "cell_type": "code",
      "source": [
        "# write a code for remove,update,discard.\n",
        "s1={10,20,30,40,50,10,40,60,50}\n",
        "print(s1)\n",
        "s1.remove(10)\n",
        "print(s1)\n"
      ],
      "metadata": {
        "id": "KBJhaMqAFfx0",
        "outputId": "e383054d-ab46-47e7-c8af-c30acd30dc5d",
        "colab": {
          "base_uri": "https://localhost:8080/"
        }
      },
      "execution_count": 43,
      "outputs": [
        {
          "output_type": "stream",
          "name": "stdout",
          "text": [
            "{50, 20, 40, 10, 60, 30}\n",
            "{50, 20, 40, 60, 30}\n",
            "{50, 20, 40, 10, 60, 30}\n",
            "{200, 10, 20, 30, 100, 40, 300, 50, 60}\n"
          ]
        }
      ]
    },
    {
      "cell_type": "code",
      "source": [
        "#update\n",
        "s1={10,20,30,40,50,10,40,60,50}\n",
        "print(s1)\n",
        "s1.update([100,200,300])\n",
        "print(s1)"
      ],
      "metadata": {
        "id": "qJe1eBuXFy8G",
        "outputId": "e39bda36-3b0b-40c5-bb3d-0ecf44fe59c4",
        "colab": {
          "base_uri": "https://localhost:8080/"
        }
      },
      "execution_count": 44,
      "outputs": [
        {
          "output_type": "stream",
          "name": "stdout",
          "text": [
            "{50, 20, 40, 10, 60, 30}\n",
            "{200, 10, 20, 30, 100, 40, 300, 50, 60}\n"
          ]
        }
      ]
    },
    {
      "cell_type": "code",
      "source": [
        "#discard\n",
        "s1={10,20,30,40,50,10,40,60,50}\n",
        "print(s1)\n",
        "s1.discard(10)\n",
        "print(s1)"
      ],
      "metadata": {
        "id": "hUyDCCboF1vT",
        "outputId": "6301177d-b14c-41c3-8af4-5568c7e3dfbe",
        "colab": {
          "base_uri": "https://localhost:8080/"
        }
      },
      "execution_count": 45,
      "outputs": [
        {
          "output_type": "stream",
          "name": "stdout",
          "text": [
            "{50, 20, 40, 10, 60, 30}\n",
            "{50, 20, 40, 60, 30}\n"
          ]
        }
      ]
    },
    {
      "cell_type": "code",
      "source": [
        "# pop method\n",
        "s1={10,20,30,40,50,10,40,60,50}\n",
        "print(s1)\n",
        "s1.pop()\n",
        "print(s1)"
      ],
      "metadata": {
        "id": "BSQTXkSrF-i6",
        "outputId": "31ec0bc3-9588-418b-a80a-cd91891c0d8b",
        "colab": {
          "base_uri": "https://localhost:8080/"
        }
      },
      "execution_count": 46,
      "outputs": [
        {
          "output_type": "stream",
          "name": "stdout",
          "text": [
            "{50, 20, 40, 10, 60, 30}\n",
            "{20, 40, 10, 60, 30}\n"
          ]
        }
      ]
    }
  ]
}