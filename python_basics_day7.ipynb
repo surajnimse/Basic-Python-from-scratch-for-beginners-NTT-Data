{
  "nbformat": 4,
  "nbformat_minor": 0,
  "metadata": {
    "colab": {
      "provenance": [],
      "include_colab_link": true
    },
    "kernelspec": {
      "name": "python3",
      "display_name": "Python 3"
    },
    "language_info": {
      "name": "python"
    }
  },
  "cells": [
    {
      "cell_type": "markdown",
      "metadata": {
        "id": "view-in-github",
        "colab_type": "text"
      },
      "source": [
        "<a href=\"https://colab.research.google.com/github/surajnimse/Basic-Python-from-scratch-for-beginners-NTT-Data/blob/main/python_basics_day7.ipynb\" target=\"_parent\"><img src=\"https://colab.research.google.com/assets/colab-badge.svg\" alt=\"Open In Colab\"/></a>"
      ]
    },
    {
      "cell_type": "code",
      "source": [
        "#dictionary\n",
        "dict1={\"pp\":\"alex\",\"qq\":\"balan\",\"rr\":\"catherine\",\"ss\":\"dinesh\"}\n",
        "print(dict1)\n",
        "print(type(dict1))\n",
        "\n",
        "#access the dict\n",
        "print(dict1[\"pp\"])"
      ],
      "metadata": {
        "colab": {
          "base_uri": "https://localhost:8080/"
        },
        "id": "S5T1rfl_0o0O",
        "outputId": "b19d40af-08f2-44e5-98ed-804f48ae8d92"
      },
      "execution_count": 2,
      "outputs": [
        {
          "output_type": "stream",
          "name": "stdout",
          "text": [
            "{'pp': 'alex', 'qq': 'balan', 'rr': 'catherine', 'ss': 'dinesh'}\n",
            "<class 'dict'>\n",
            "alex\n"
          ]
        }
      ]
    },
    {
      "cell_type": "code",
      "source": [
        "#dict\n",
        "dict2={9881:[\"shiva\",43,\"aaa fff street blr\"],\n",
        "       9882:[\"suraj\",44,\"bbb ggg street hyd\"],\n",
        "       9883:[\"dinesh\",45,\"ccc hhh street chn\"],\n",
        "       }\n",
        "print(dict2)\n",
        "print(dict2[9881])\n",
        "\n",
        "print(dict2[9882])\n",
        "print(dict2[9883])\n",
        "\n",
        "dict2={9884:[\"balan\",46,\"aaa fff street cho\"]       }\n",
        "print(dict2)\n"
      ],
      "metadata": {
        "id": "hdHEPqBi3YsM",
        "outputId": "55ef74ad-d19f-4ee7-f9c1-17e9416e960c",
        "colab": {
          "base_uri": "https://localhost:8080/"
        }
      },
      "execution_count": 6,
      "outputs": [
        {
          "output_type": "stream",
          "name": "stdout",
          "text": [
            "{9881: ['shiva', 43, 'aaa fff street blr'], 9882: ['suraj', 44, 'bbb ggg street hyd'], 9883: ['dinesh', 45, 'ccc hhh street chn']}\n",
            "['shiva', 43, 'aaa fff street blr']\n",
            "['suraj', 44, 'bbb ggg street hyd']\n",
            "['dinesh', 45, 'ccc hhh street chn']\n",
            "{9884: ['balan', 46, 'aaa fff street cho']}\n"
          ]
        }
      ]
    },
    {
      "cell_type": "code",
      "source": [
        "# dict operations using inbuilt method.\n",
        "dict3={1001:[\"shiva\",43,\"blr\"],\n",
        "       1002:[\"suraj\",44,\"hyd\"],\n",
        "       1003:[\"dinesh\",45,\"chn\"],\n",
        "       }\n",
        "print(dict3)\n",
        "print(dict3.keys())\n",
        "print(dict3.values())\n",
        "print(dict3.items())\n",
        "\n",
        "val=dict3.items()\n",
        "print(val)\n",
        "print(type(val))\n",
        "l=list(val)\n",
        "print(l)\n",
        "print(type(l))\n",
        "dict3.clear()\n",
        "print(dict3)\n",
        "\n",
        "dict1={1001:[\"shiva\",43,\"blr\"],\n",
        "       1002:[\"suraj\",44,\"hyd\"],\n",
        "       1003:[\"dinesh\",45,\"chn\"],\n",
        "       }\n",
        "dict2=dict1.copy()\n",
        "print(dict2)\n"
      ],
      "metadata": {
        "id": "FoSf6JqP4iuX",
        "outputId": "c72260c7-cfda-414b-9bea-6971c5bcd619",
        "colab": {
          "base_uri": "https://localhost:8080/"
        }
      },
      "execution_count": 19,
      "outputs": [
        {
          "output_type": "stream",
          "name": "stdout",
          "text": [
            "{1001: ['shiva', 43, 'blr'], 1002: ['suraj', 44, 'hyd'], 1003: ['dinesh', 45, 'chn']}\n",
            "dict_keys([1001, 1002, 1003])\n",
            "dict_values([['shiva', 43, 'blr'], ['suraj', 44, 'hyd'], ['dinesh', 45, 'chn']])\n",
            "dict_items([(1001, ['shiva', 43, 'blr']), (1002, ['suraj', 44, 'hyd']), (1003, ['dinesh', 45, 'chn'])])\n",
            "dict_items([(1001, ['shiva', 43, 'blr']), (1002, ['suraj', 44, 'hyd']), (1003, ['dinesh', 45, 'chn'])])\n",
            "<class 'dict_items'>\n",
            "[(1001, ['shiva', 43, 'blr']), (1002, ['suraj', 44, 'hyd']), (1003, ['dinesh', 45, 'chn'])]\n",
            "<class 'list'>\n",
            "{}\n",
            "{1001: ['shiva', 43, 'blr'], 1002: ['suraj', 44, 'hyd'], 1003: ['dinesh', 45, 'chn']}\n"
          ]
        }
      ]
    },
    {
      "cell_type": "code",
      "source": [
        "\n",
        "dict1={1001:[\"shiva\",43,\"blr\"],\n",
        "       1002:[\"suraj\",44,\"hyd\"],\n",
        "       1003:[\"dinesh\",45,\"chn\"],\n",
        "       }\n",
        "dict2=dict1.copy()\n",
        "print(dict2)\n",
        "dict1[1003]=[\"raj\",45,\"chn\"]\n",
        "\n",
        "print(dict1)\n",
        "print(dict2)\n"
      ],
      "metadata": {
        "id": "P9yHuJYi-SG8",
        "outputId": "e3c3bf1f-97de-4a8d-a140-c3c06cbdbd57",
        "colab": {
          "base_uri": "https://localhost:8080/"
        }
      },
      "execution_count": 28,
      "outputs": [
        {
          "output_type": "stream",
          "name": "stdout",
          "text": [
            "{1001: ['shiva', 43, 'blr'], 1002: ['suraj', 44, 'hyd'], 1003: ['dinesh', 45, 'chn']}\n",
            "{1001: ['shiva', 43, 'blr'], 1002: ['suraj', 44, 'hyd'], 1003: ['raj', 45, 'chn']}\n",
            "{1001: ['shiva', 43, 'blr'], 1002: ['suraj', 44, 'hyd'], 1003: ['dinesh', 45, 'chn']}\n"
          ]
        }
      ]
    },
    {
      "cell_type": "code",
      "source": [],
      "metadata": {
        "id": "l-ZobwVR-Jhz"
      },
      "execution_count": null,
      "outputs": []
    }
  ]
}